{
  "nbformat": 4,
  "nbformat_minor": 0,
  "metadata": {
    "colab": {
      "name": "digits_prediction",
      "provenance": [],
      "collapsed_sections": [],
      "authorship_tag": "ABX9TyN3OZNA/9/eL6sonbMZ+9Gw",
      "include_colab_link": true
    },
    "kernelspec": {
      "name": "python3",
      "display_name": "Python 3"
    },
    "language_info": {
      "name": "python"
    }
  },
  "cells": [
    {
      "cell_type": "markdown",
      "metadata": {
        "id": "view-in-github",
        "colab_type": "text"
      },
      "source": [
        "<a href=\"https://colab.research.google.com/github/123santoshi/123santoshi/blob/main/digits_prediction.ipynb\" target=\"_parent\"><img src=\"https://colab.research.google.com/assets/colab-badge.svg\" alt=\"Open In Colab\"/></a>"
      ]
    },
    {
      "cell_type": "markdown",
      "source": [
        "**INSTALLING LIBRARIES**"
      ],
      "metadata": {
        "id": "P8FLgqsm7Xvi"
      }
    },
    {
      "cell_type": "code",
      "execution_count": 55,
      "metadata": {
        "id": "P7aiHXEhzbTY"
      },
      "outputs": [],
      "source": [
        "!pip install scikit-learn\n",
        "!pip install matplotlib"
      ]
    },
    {
      "cell_type": "markdown",
      "source": [
        " ** IMPORTING LIBRARIES**"
      ],
      "metadata": {
        "id": "gF0lhh3o7kBN"
      }
    },
    {
      "cell_type": "code",
      "source": [
        "from matplotlib import pyplot as plt\n",
        "from sklearn.datasets import load_digits"
      ],
      "metadata": {
        "id": "3yIE7lWTzl9i"
      },
      "execution_count": 56,
      "outputs": []
    },
    {
      "cell_type": "code",
      "source": [
        "d=load_digits()            #loading dataset from sklearn module\n",
        "dir(d)   \n"
      ],
      "metadata": {
        "id": "Kh2bPSgDz0mO"
      },
      "execution_count": null,
      "outputs": []
    },
    {
      "cell_type": "markdown",
      "source": [
        "**SUMMARIZE THE DATA**"
      ],
      "metadata": {
        "id": "xaSt0AEX70mY"
      }
    },
    {
      "cell_type": "code",
      "source": [
        "d.data          #data contains fig metrics "
      ],
      "metadata": {
        "id": "7KlMSSqZ070U"
      },
      "execution_count": null,
      "outputs": []
    },
    {
      "cell_type": "code",
      "source": [
        "d.data[0]"
      ],
      "metadata": {
        "id": "eD67DWTP032B"
      },
      "execution_count": null,
      "outputs": []
    },
    {
      "cell_type": "code",
      "source": [
        "d.images[1:5]              #images will be displayed in text format"
      ],
      "metadata": {
        "id": "t28ds9Ia1bAQ"
      },
      "execution_count": null,
      "outputs": []
    },
    {
      "cell_type": "code",
      "source": [
        "plt.gray()                         #to display images in img format\n",
        "for i in range(1,6):\n",
        "    plt.matshow(d.images[i])"
      ],
      "metadata": {
        "id": "pAL9vvGi1h4P"
      },
      "execution_count": null,
      "outputs": []
    },
    {
      "cell_type": "code",
      "source": [
        "d.target[0:16]           #correponding image number is stored in target value"
      ],
      "metadata": {
        "id": "uxZ1GfmQ2KPv"
      },
      "execution_count": null,
      "outputs": []
    },
    {
      "cell_type": "markdown",
      "source": [
        "**TRAINING THE DATA**"
      ],
      "metadata": {
        "id": "CVKppy0V8HcM"
      }
    },
    {
      "cell_type": "code",
      "source": [
        "from sklearn.model_selection import train_test_split\n",
        "x_train,x_test,y_train,y_test=train_test_split(d.data,d.target,test_size=0.2)\n",
        "from sklearn.linear_model import LogisticRegression\n",
        "model=LogisticRegression()\n",
        "model.fit(x_train,y_train)"
      ],
      "metadata": {
        "id": "MokdsDad2DZh"
      },
      "execution_count": null,
      "outputs": []
    },
    {
      "cell_type": "markdown",
      "source": [
        "**ACCURACY**"
      ],
      "metadata": {
        "id": "A-6X8FlD8Tps"
      }
    },
    {
      "cell_type": "code",
      "source": [
        "score1=model.score(x_test,y_test)          #to check accuracy of our model\n",
        "score1=score1*100                         #convert accuracy into percentage\n",
        "score1"
      ],
      "metadata": {
        "id": "QVvgRZY33bQk"
      },
      "execution_count": null,
      "outputs": []
    },
    {
      "cell_type": "markdown",
      "source": [
        "**TESTING**"
      ],
      "metadata": {
        "id": "dkIGD68c8YOL"
      }
    },
    {
      "cell_type": "code",
      "source": [
        "n=int(input(\"enter image number which we want to preidtc==\"))\n",
        "plt.matshow(d.images[n])            #if u want to check the number present in image 67"
      ],
      "metadata": {
        "id": "xZggyKM13ijO"
      },
      "execution_count": null,
      "outputs": []
    },
    {
      "cell_type": "code",
      "source": [
        "d.target[n]                        #corresponding target value "
      ],
      "metadata": {
        "id": "VaH1x8oj31CL"
      },
      "execution_count": null,
      "outputs": []
    },
    {
      "cell_type": "code",
      "source": [
        "model.predict([d.data[n]])           #if u want to check the number present in image 67"
      ],
      "metadata": {
        "id": "uLMvO-XE35sC"
      },
      "execution_count": null,
      "outputs": []
    },
    {
      "cell_type": "markdown",
      "source": [
        "**CONFUSION MATRIX**"
      ],
      "metadata": {
        "id": "q8SQ0JQ47NXm"
      }
    },
    {
      "cell_type": "code",
      "source": [
        "ypredict=model.predict(x_test)                          \n",
        "from sklearn.metrics import confusion_matrix\n",
        "confusionmatrix=confusion_matrix(y_test,ypredict)\n",
        "confusionmatrix"
      ],
      "metadata": {
        "id": "D7nBgaZ-4QMr"
      },
      "execution_count": null,
      "outputs": []
    },
    {
      "cell_type": "code",
      "source": [
        "import seaborn as sn                  \n",
        "sn.heatmap(confusionmatrix,annot=True)\n",
        "plt.xlabel(\"predicted value\")\n",
        "plt.ylabel(\"actual value\")\n"
      ],
      "metadata": {
        "id": "ohSBvURh4lDq"
      },
      "execution_count": null,
      "outputs": []
    }
  ]
}